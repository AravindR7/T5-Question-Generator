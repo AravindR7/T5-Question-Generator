{
  "nbformat": 4,
  "nbformat_minor": 0,
  "metadata": {
    "colab": {
      "name": "que_gen_pipeline.ipynb",
      "provenance": [],
      "collapsed_sections": [],
      "authorship_tag": "ABX9TyM3HAp1MyVZMCrh1ya+Pwkq",
      "include_colab_link": true
    },
    "kernelspec": {
      "name": "python3",
      "display_name": "Python 3"
    },
    "accelerator": "TPU"
  },
  "cells": [
    {
      "cell_type": "markdown",
      "metadata": {
        "id": "view-in-github",
        "colab_type": "text"
      },
      "source": [
        "<a href=\"https://colab.research.google.com/github/AravindR7/T5-Question-Generator/blob/master/que_gen_pipeline.ipynb\" target=\"_parent\"><img src=\"https://colab.research.google.com/assets/colab-badge.svg\" alt=\"Open In Colab\"/></a>"
      ]
    },
    {
      "cell_type": "code",
      "metadata": {
        "id": "fNvJEIzYqjTE",
        "colab_type": "code",
        "colab": {}
      },
      "source": [
        "!gdown -O  t5_que_gen.zip --id 1vhsDOW9wUUO83IQasTPlkxb82yxmMH-V\n",
        "!unzip t5_que_gen.zip"
      ],
      "execution_count": null,
      "outputs": []
    },
    {
      "cell_type": "code",
      "metadata": {
        "id": "2EVXD3uMqxBn",
        "colab_type": "code",
        "colab": {}
      },
      "source": [
        "!pip install transformers"
      ],
      "execution_count": null,
      "outputs": []
    },
    {
      "cell_type": "code",
      "metadata": {
        "id": "4pFm-mFp2D9y",
        "colab_type": "code",
        "colab": {
          "base_uri": "https://localhost:8080/",
          "height": 54
        },
        "outputId": "ed2d2dd7-81cb-4dc8-8f7f-8ab73b319578"
      },
      "source": [
        "import argparse\n",
        "import glob\n",
        "import os\n",
        "import json\n",
        "import time \n",
        "import logging\n",
        "import random\n",
        "from itertools import chain\n",
        "from string import punctuation\n",
        "\n",
        "import nltk\n",
        "nltk.download('punkt')\n",
        "from nltk.tokenize import sent_tokenize\n",
        "\n",
        "import numpy as np\n",
        "import torch\n",
        "from torch.utils.data import dataset, DataLoader\n",
        "\n",
        "from transformers import (\n",
        "    AdamW,\n",
        "    T5ForConditionalGeneration,\n",
        "    T5Tokenizer,\n",
        "    get_linear_schedule_with_warmup\n",
        "                         )"
      ],
      "execution_count": 3,
      "outputs": [
        {
          "output_type": "stream",
          "text": [
            "[nltk_data] Downloading package punkt to /root/nltk_data...\n",
            "[nltk_data]   Unzipping tokenizers/punkt.zip.\n"
          ],
          "name": "stdout"
        }
      ]
    },
    {
      "cell_type": "code",
      "metadata": {
        "id": "OZzksI9K3Snu",
        "colab_type": "code",
        "colab": {}
      },
      "source": [
        "class QueGenerator():\n",
        "  def __init__(self):\n",
        "    self.que_model = T5ForConditionalGeneration.from_pretrained('./t5_que_gen_model/t5_base_que_gen/')\n",
        "    self.ans_model = T5ForConditionalGeneration.from_pretrained('./t5_ans_gen_model/t5_base_ans_gen/')\n",
        "\n",
        "    self.que_tokenizer = T5Tokenizer.from_pretrained('./t5_que_gen_model/t5_base_tok_que_gen/')\n",
        "    self.ans_tokenizer = T5Tokenizer.from_pretrained('./t5_ans_gen_model/t5_base_tok_ans_gen/')\n",
        "    \n",
        "    self.device = 'cuda' if torch.cuda.is_available() else 'cpu'\n",
        "    \n",
        "    self.que_model = self.que_model.to(self.device)\n",
        "    self.ans_model = self.ans_model.to(self.device)\n",
        "  \n",
        "  def generate(self, text):\n",
        "    answers = self._get_answers(text)\n",
        "    questions = self._get_questions(text, answers)\n",
        "    output = [{'answer': ans, 'question': que} for ans, que in zip(answers, questions)]\n",
        "    return output\n",
        "  \n",
        "  def _get_answers(self, text):\n",
        "    # split into sentences\n",
        "    sents = sent_tokenize(text)\n",
        "\n",
        "    examples = []\n",
        "    for i in range(len(sents)):\n",
        "      input_ = \"\"\n",
        "      for j, sent in enumerate(sents):\n",
        "        if i == j:\n",
        "            sent = \"[HL] %s [HL]\" % sent\n",
        "        input_ = \"%s %s\" % (input_, sent)\n",
        "        input_ = input_.strip()\n",
        "      input_ = input_ + \" </s>\"\n",
        "      examples.append(input_)\n",
        "    \n",
        "    batch = self.ans_tokenizer.batch_encode_plus(examples, max_length=512, pad_to_max_length=True, return_tensors=\"pt\")\n",
        "    with torch.no_grad():\n",
        "      outs = self.ans_model.generate(input_ids=batch['input_ids'].to(self.device), \n",
        "                                attention_mask=batch['attention_mask'].to(self.device), \n",
        "                                max_length=32,\n",
        "                                # do_sample=False,\n",
        "                                # num_beams = 4,\n",
        "                                )\n",
        "    dec = [self.ans_tokenizer.decode(ids, skip_special_tokens=False) for ids in outs]\n",
        "    answers = [item.split('[SEP]') for item in dec]\n",
        "    answers = chain(*answers)\n",
        "    answers = [ans.strip() for ans in answers if ans != ' ']\n",
        "    return answers\n",
        "  \n",
        "  def _get_questions(self, text, answers):\n",
        "    examples = []\n",
        "    for ans in answers:\n",
        "      input_text = \"%s [SEP] %s </s>\" % (ans, text)\n",
        "      examples.append(input_text)\n",
        "    \n",
        "    batch = self.que_tokenizer.batch_encode_plus(examples, max_length=512, pad_to_max_length=True, return_tensors=\"pt\")\n",
        "    with torch.no_grad():\n",
        "      outs = self.que_model.generate(input_ids=batch['input_ids'].to(self.device), \n",
        "                                attention_mask=batch['attention_mask'].to(self.device), \n",
        "                                max_length=32,\n",
        "                                num_beams = 4)\n",
        "    dec = [self.que_tokenizer.decode(ids, skip_special_tokens=False) for ids in outs]\n",
        "    return dec"
      ],
      "execution_count": 4,
      "outputs": []
    },
    {
      "cell_type": "code",
      "metadata": {
        "id": "bdWi9prGq8_T",
        "colab_type": "code",
        "colab": {}
      },
      "source": [
        "que_generator = QueGenerator()"
      ],
      "execution_count": 7,
      "outputs": []
    },
    {
      "cell_type": "code",
      "metadata": {
        "id": "BrhIxf0XvYEZ",
        "colab_type": "code",
        "colab": {}
      },
      "source": [
        "text = \"Python is an interpreted, high-level, general-purpose programming language. Created by Guido van Rossum \\\n",
        "and first released in 1991, Python's design philosophy emphasizes code \\\n",
        "readability with its notable use of significant whitespace.\"\n",
        "\n",
        "text2 = \"Gravity (from Latin gravitas, meaning 'weight'), or gravitation, is a natural phenomenon by which all \\\n",
        "things with mass or energy—including planets, stars, galaxies, and even light—are brought toward (or gravitate toward) \\\n",
        "one another. On Earth, gravity gives weight to physical objects, and the Moon's gravity causes the ocean tides. \\\n",
        "The gravitational attraction of the original gaseous matter present in the Universe caused it to begin coalescing \\\n",
        "and forming stars and caused the stars to group together into galaxies, so gravity is responsible for many of \\\n",
        "the large-scale structures in the Universe. Gravity has an infinite range, although its effects become increasingly \\\n",
        "weaker as objects get further away\""
      ],
      "execution_count": null,
      "outputs": []
    },
    {
      "cell_type": "code",
      "metadata": {
        "id": "DMX7NLWDvbeW",
        "colab_type": "code",
        "colab": {}
      },
      "source": [
        "que_generator.generate(text)"
      ],
      "execution_count": null,
      "outputs": []
    },
    {
      "cell_type": "code",
      "metadata": {
        "id": "sKc34X4LvhLQ",
        "colab_type": "code",
        "colab": {}
      },
      "source": [
        "que_generator.generate(text2)\n"
      ],
      "execution_count": null,
      "outputs": []
    },
    {
      "cell_type": "code",
      "metadata": {
        "id": "A-hwXHHevr5H",
        "colab_type": "code",
        "colab": {}
      },
      "source": [
        "tetx = \"A dentist, also known as a dental surgeon, is a surgeon who specializes in dentistry, the diagnosis, prevention, and treatment of diseases and conditions of the oral cavity. The dentist's supporting team aids in providing oral health services. The dental team includes dental assistants, dental hygienists, dental technicians, and sometimes dental therapists.\""
      ],
      "execution_count": null,
      "outputs": []
    },
    {
      "cell_type": "code",
      "metadata": {
        "id": "7_2GALOizoV8",
        "colab_type": "code",
        "colab": {}
      },
      "source": [
        "que_generator.generate(tetx)"
      ],
      "execution_count": null,
      "outputs": []
    },
    {
      "cell_type": "code",
      "metadata": {
        "id": "6VrtxFww0J-A",
        "colab_type": "code",
        "colab": {}
      },
      "source": [
        ""
      ],
      "execution_count": 9,
      "outputs": []
    },
    {
      "cell_type": "code",
      "metadata": {
        "id": "nKMuyXK_6RAH",
        "colab_type": "code",
        "colab": {}
      },
      "source": [
        "algom = '''We define a targeted promotion as an incentive that can be delivered to selected consumers through marketing channels. \n",
        "Promotions can be offered with some condition (e. g. buy one, get one)\n",
        "or without any condition, can provide a monetary value such as\n",
        "a discount, or can just advertise a product or brand. Promotions\n",
        "may or may not be redeemable, in the sense that a consumer might\n",
        "need to submit evidence of the promotion (scan a bar code on a\n",
        "printed coupon or enter a promotion code) to redeem its monetary value with a purchase. We also use the word treatment as a\n",
        "generic term that refers to promotions and other marketing communications.\n",
        "• A retailer owns marketing channels such physical stores or eCommerce websites that can be used to communicate promotions to\n",
        "the consumers. The marketing channels of multiple retailers can\n",
        "be combined into a promotion distribution network that can be operated by retailers or a third-party agency. For example, an agency\n",
        "can install its coupon printers in stores that belong to multiple\n",
        "retail chains.\n",
        "It is critically important that the retailer or agency, as a marketing\n",
        "channel owner, can track consumers at the individual level and\n",
        "link together transactions made by the same consumer or household. This tracking is often based on loyalty IDs that are assigned\n",
        "to the customers by using loyalty cards or online accounts, credit\n",
        "card IDs, or other pieces of information that are available to a retailer. This process, however, is often imperfect, and a significant\n",
        "number of transactions can remain anonymous.\n",
        "• Promotions can be distributed through the marketing channels\n",
        "on behalf of both manufacturers and retailers. Distribution can\n",
        "be done either in batch mode, when emails or printed catalogs\n",
        "are sent to a large number of customers, or in real-time mode,\n",
        "when promotions are generated in the scope of an individual\n",
        "transaction, such as an in-store purchase or website visit.\n",
        "• The main decisions that a targeting system needs to make with\n",
        "respect to promotions are who are the right recipients for a promotion, what are the right promotional properties, what is the\n",
        "optimal time to offer it, and what is the right delivery channel.\n",
        "• We assume that a retailer can identify consumers who have received a promotion, consumers who have purchased a promoted\n",
        "product, and, optionally, promotion redemption events. Note\n",
        "that purchases and redemptions are completely different events\n",
        "that should not be confused: consumers who have a promotion\n",
        "3.1 environment 79\n",
        "are not obligated to redeem it, and a product can typically be\n",
        "purchased by any consumer although the purchase may be on\n",
        "different conditions according to the granted promotions. Beyond these events, a targeting system can also access additional\n",
        "or external consumer data, such as demographic records or\n",
        "survey answers.'''"
      ],
      "execution_count": 14,
      "outputs": []
    },
    {
      "cell_type": "code",
      "metadata": {
        "id": "acPQ3cXb74gb",
        "colab_type": "code",
        "colab": {
          "base_uri": "https://localhost:8080/",
          "height": 637
        },
        "outputId": "6f9fa1e5-f28d-420d-dcca-f1c5be900b46"
      },
      "source": [
        "que_generator.generate(algom)"
      ],
      "execution_count": 15,
      "outputs": [
        {
          "output_type": "stream",
          "text": [
            "Truncation was not explicitely activated but `max_length` is provided a specific value, please use `truncation=True` to explicitely truncate examples to max length. Defaulting to 'longest_first' truncation strategy. If you encode pairs of sequences (GLUE-style) with the tokenizer you can select this strategy more precisely by providing a specific strategy to `truncation`.\n",
            "Truncation was not explicitely activated but `max_length` is provided a specific value, please use `truncation=True` to explicitely truncate examples to max length. Defaulting to 'longest_first' truncation strategy. If you encode pairs of sequences (GLUE-style) with the tokenizer you can select this strategy more precisely by providing a specific strategy to `truncation`.\n"
          ],
          "name": "stderr"
        },
        {
          "output_type": "execute_result",
          "data": {
            "text/plain": [
              "[{'answer': 'marketing channels',\n",
              "  'question': 'How can a targeted promotion be delivered to selected consumers?'},\n",
              " {'answer': 'promotion',\n",
              "  'question': 'What can provide a monetary value such as a discount, or can just advertise a product or brand?'},\n",
              " {'answer': 'redeemable', 'question': 'Promotions may or may not be what?'},\n",
              " {'answer': 'treatment',\n",
              "  'question': 'What word refers to promotions and other marketing communications?'},\n",
              " {'answer': 'physical stores or eCommerce websites',\n",
              "  'question': 'Where does a retailer own marketing channels?'},\n",
              " {'answer': 'retailers or a third-party agency',\n",
              "  'question': 'Who can operate a promotion distribution network?'},\n",
              " {'answer': 'multiple retail chains',\n",
              "  'question': 'An agency can install coupon printers in stores that belong to what?'},\n",
              " {'answer': 'track consumers at the individual level and link together transactions made by the same consumer or household',\n",
              "  'question': 'What is critically important that the retailer or agency, as a marketing channel owner, can do?'},\n",
              " {'answer': 'loyalty IDs',\n",
              "  'question': 'What is the tracking of consumers based on?'},\n",
              " {'answer': 'imperfect',\n",
              "  'question': 'Is the tracking process always perfect or perfect?'},\n",
              " {'answer': 'manufacturers and retailers',\n",
              "  'question': 'Promotions can be distributed through the marketing channels on behalf of whom?'},\n",
              " {'answer': 'real-time',\n",
              "  'question': 'In what mode are promotions generated in the scope of an individual transaction?'},\n",
              " {'answer': 'who are the right recipients for a promotion, what are the right promotional properties, what is the optimal time to offer it, and what is the right',\n",
              "  'question': 'What are the main decisions that a targeting system needs to make with respect to promotions?'},\n",
              " {'answer': 'promotion redemption events',\n",
              "  'question': 'What can a retailer optionally identify?'},\n",
              " {'answer': 'purchases and redemptions',\n",
              "  'question': 'What are completely different events that should not be confused?'},\n",
              " {'answer': 'consumers who have received a promotion, consumers who have purchased a promoted product, and, optionally, promotion redemption events',\n",
              "  'question': 'What do we assume a retailer can identify?'}]"
            ]
          },
          "metadata": {
            "tags": []
          },
          "execution_count": 15
        }
      ]
    },
    {
      "cell_type": "code",
      "metadata": {
        "id": "0KTcpDHz_Y5t",
        "colab_type": "code",
        "colab": {}
      },
      "source": [
        ""
      ],
      "execution_count": null,
      "outputs": []
    }
  ]
}